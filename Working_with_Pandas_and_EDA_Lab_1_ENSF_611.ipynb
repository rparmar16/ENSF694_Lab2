{
  "nbformat": 4,
  "nbformat_minor": 0,
  "metadata": {
    "colab": {
      "provenance": [],
      "include_colab_link": true
    },
    "kernelspec": {
      "name": "python3",
      "display_name": "Python 3"
    },
    "language_info": {
      "name": "python"
    }
  },
  "cells": [
    {
      "cell_type": "markdown",
      "metadata": {
        "id": "view-in-github",
        "colab_type": "text"
      },
      "source": [
        "<a href=\"https://colab.research.google.com/github/rparmar16/ENSF694_Lab2/blob/main/Working_with_Pandas_and_EDA_Lab_1_ENSF_611.ipynb\" target=\"_parent\"><img src=\"https://colab.research.google.com/assets/colab-badge.svg\" alt=\"Open In Colab\"/></a>"
      ]
    },
    {
      "cell_type": "markdown",
      "source": [
        "## Filtering the data:\n",
        "\n",
        "The dataset I will be using: [link](https://www.kaggle.com/competitions/house-prices-advanced-regression-techniques/overview)\n",
        "\n",
        "Data Description: [link](https://www.kaggle.com/competitions/house-prices-advanced-regression-techniques/data)\n"
      ],
      "metadata": {
        "id": "ytxEbDK7mzAp"
      }
    },
    {
      "cell_type": "code",
      "execution_count": null,
      "metadata": {
        "id": "DUsaluUtmNGU"
      },
      "outputs": [],
      "source": [
        "# import the packages\n",
        "\n"
      ]
    },
    {
      "cell_type": "code",
      "source": [
        "# read the dataset\n"
      ],
      "metadata": {
        "id": "XFYwFWR9m9qG"
      },
      "execution_count": null,
      "outputs": []
    },
    {
      "cell_type": "code",
      "source": [
        "# show all the columns\n",
        "pd.set_option('display.max_columns', None)"
      ],
      "metadata": {
        "id": "alULo_-Am9n-"
      },
      "execution_count": null,
      "outputs": []
    },
    {
      "cell_type": "code",
      "source": [
        "# see the first 5 records\n"
      ],
      "metadata": {
        "id": "AP82vl-HoN6v"
      },
      "execution_count": null,
      "outputs": []
    },
    {
      "cell_type": "code",
      "source": [
        "# are there any duplicates?\n"
      ],
      "metadata": {
        "id": "acwUilpbRuJu"
      },
      "execution_count": null,
      "outputs": []
    },
    {
      "cell_type": "code",
      "source": [
        "# do we have any duplicates in Id? What about Neighborhood?\n"
      ],
      "metadata": {
        "id": "Dw5DIqmYShfW"
      },
      "execution_count": null,
      "outputs": []
    },
    {
      "cell_type": "code",
      "source": [
        "# remove duplicates in Neighborhood by keeping only the first record for each\n",
        "# Neighborhood and view the new dataset\n",
        "# do not over-write the dataframe\n"
      ],
      "metadata": {
        "id": "gaj5O5SvS25W"
      },
      "execution_count": null,
      "outputs": []
    },
    {
      "cell_type": "code",
      "source": [
        "# How many listings do we have?\n"
      ],
      "metadata": {
        "id": "J1iFb0gboPct"
      },
      "execution_count": null,
      "outputs": []
    },
    {
      "cell_type": "code",
      "source": [
        "# How many columns do we have?\n"
      ],
      "metadata": {
        "id": "ovlncg2aGW-5"
      },
      "execution_count": null,
      "outputs": []
    },
    {
      "cell_type": "code",
      "source": [
        "# use .shape to see the column and rows length\n"
      ],
      "metadata": {
        "id": "sSj7fQ1LbiP0"
      },
      "execution_count": null,
      "outputs": []
    },
    {
      "cell_type": "code",
      "source": [
        "# take a look at the datatypes\n"
      ],
      "metadata": {
        "id": "4Mn_N9qvEG_T"
      },
      "execution_count": null,
      "outputs": []
    },
    {
      "cell_type": "code",
      "source": [
        "# Describe numeric columns\n"
      ],
      "metadata": {
        "id": "C8aX2iuBdS7b"
      },
      "execution_count": null,
      "outputs": []
    },
    {
      "cell_type": "code",
      "source": [
        "# describe only the SalePrice\n"
      ],
      "metadata": {
        "id": "nf5E0Q9OeCGV"
      },
      "execution_count": null,
      "outputs": []
    },
    {
      "cell_type": "code",
      "source": [
        "# Convert 'YearBuilt' type to int\n"
      ],
      "metadata": {
        "id": "AJOszbYVGN3a"
      },
      "execution_count": null,
      "outputs": []
    },
    {
      "cell_type": "code",
      "source": [
        "# which are the oldest houses?\n"
      ],
      "metadata": {
        "id": "KXm95lGto06_"
      },
      "execution_count": null,
      "outputs": []
    },
    {
      "cell_type": "code",
      "source": [
        "# take a look at only one neighborhood (NoRidge)\n"
      ],
      "metadata": {
        "id": "fI1qliICo041"
      },
      "execution_count": null,
      "outputs": []
    },
    {
      "cell_type": "code",
      "source": [
        "# take a look at only another neighborhood (NoRidge)\n"
      ],
      "metadata": {
        "id": "0_S4YXg8o02q"
      },
      "execution_count": null,
      "outputs": []
    },
    {
      "cell_type": "code",
      "source": [
        "# how many houses are there in this neighborhood?\n"
      ],
      "metadata": {
        "id": "BIDAsILmrohf"
      },
      "execution_count": null,
      "outputs": []
    },
    {
      "cell_type": "code",
      "source": [
        "# first house that was built in NoRidge neighborhood\n"
      ],
      "metadata": {
        "id": "75_Pbto8o00g"
      },
      "execution_count": null,
      "outputs": []
    },
    {
      "cell_type": "code",
      "source": [
        "# first house that was built in NoRidge neighborhood\n"
      ],
      "metadata": {
        "id": "Ya5Gvb-Eo0zE"
      },
      "execution_count": null,
      "outputs": []
    },
    {
      "cell_type": "code",
      "source": [
        "# Let's take a look at the NoRidge neighborhood for houses that\n",
        "# were remodelled after 1998\n"
      ],
      "metadata": {
        "id": "jApD3za_o0wn"
      },
      "execution_count": null,
      "outputs": []
    },
    {
      "cell_type": "code",
      "source": [
        "# another way of doing this?\n"
      ],
      "metadata": {
        "id": "Gerkp6Two0ue"
      },
      "execution_count": null,
      "outputs": []
    },
    {
      "cell_type": "code",
      "source": [
        "# How many houses were built from 1950 through 1959?\n"
      ],
      "metadata": {
        "id": "CV6mUQE6s6Ng"
      },
      "execution_count": null,
      "outputs": []
    },
    {
      "cell_type": "code",
      "source": [
        "# another way of doing this?\n"
      ],
      "metadata": {
        "id": "qXruz_1_yiQ-"
      },
      "execution_count": null,
      "outputs": []
    },
    {
      "cell_type": "code",
      "source": [
        "# how many fireplaces can a house have?\n"
      ],
      "metadata": {
        "id": "t9s83Vjv3e3R"
      },
      "execution_count": null,
      "outputs": []
    },
    {
      "cell_type": "code",
      "source": [
        "# how many types of kitchen quality do we have?\n"
      ],
      "metadata": {
        "id": "qCV0hS7331YT"
      },
      "execution_count": null,
      "outputs": []
    },
    {
      "cell_type": "code",
      "source": [
        "# how many types of heating do we have?\n"
      ],
      "metadata": {
        "id": "3tJvH6P231Rw"
      },
      "execution_count": null,
      "outputs": []
    },
    {
      "cell_type": "code",
      "source": [
        "# how to view only houses that are heated by gas?\n"
      ],
      "metadata": {
        "id": "PBkcIURD5hwS"
      },
      "execution_count": null,
      "outputs": []
    },
    {
      "cell_type": "code",
      "source": [
        "# using lambda and a function change 2Story to 2Storey and 1Story to 1Storey\n",
        "\n",
        "# see what the values are in this column\n",
        "\n",
        "\n",
        "# create a function that can change this value\n",
        "def change_spelling(style_name):\n",
        "    \"\"\"\n",
        "    changes the spelling of story to storey in a string\n",
        "    input: string\n",
        "    output: modified name of the style\n",
        "    \"\"\"\n",
        "    if style_name == '2Story': return '2Storey'\n",
        "    elif style_name == '1Story': return '1Storey'\n",
        "    else: return style_name\n",
        "\n",
        "# apply the changes on HouseStyle\n",
        "\n",
        "\n",
        "# print the new values\n"
      ],
      "metadata": {
        "id": "xMlTYwh05huY"
      },
      "execution_count": null,
      "outputs": []
    },
    {
      "cell_type": "code",
      "source": [],
      "metadata": {
        "id": "brJSYHpP5hsR"
      },
      "execution_count": null,
      "outputs": []
    },
    {
      "cell_type": "markdown",
      "source": [
        "## Your turn...\n",
        "\n",
        "Dataset: [link](https://www.kaggle.com/datasets/harshitshankhdhar/imdb-dataset-of-top-1000-movies-and-tv-shows)"
      ],
      "metadata": {
        "id": "J2_D7-AA0ALA"
      }
    },
    {
      "cell_type": "code",
      "source": [
        "# read the dataset\n"
      ],
      "metadata": {
        "id": "9mC9iDdwzO-X"
      },
      "execution_count": null,
      "outputs": []
    },
    {
      "cell_type": "code",
      "source": [
        "# see the first few records\n"
      ],
      "metadata": {
        "id": "ep9ztIx7f6cX"
      },
      "execution_count": null,
      "outputs": []
    },
    {
      "cell_type": "code",
      "source": [
        "# How many movies are there?\n"
      ],
      "metadata": {
        "id": "jXP0DGAt0Hwm"
      },
      "execution_count": null,
      "outputs": []
    },
    {
      "cell_type": "code",
      "source": [
        "# How many columns do we have?\n"
      ],
      "metadata": {
        "id": "jubUWqkKSIXt"
      },
      "execution_count": null,
      "outputs": []
    },
    {
      "cell_type": "code",
      "source": [
        "# are there any duplicates?\n"
      ],
      "metadata": {
        "id": "s0uAk4q8SHQj"
      },
      "execution_count": null,
      "outputs": []
    },
    {
      "cell_type": "code",
      "source": [
        "# are there any duplicates in the Released_Year column?\n"
      ],
      "metadata": {
        "id": "SJnAz1J6Ubwk"
      },
      "execution_count": null,
      "outputs": []
    },
    {
      "cell_type": "code",
      "source": [
        "# take a look at the datatypes\n"
      ],
      "metadata": {
        "id": "glnGxCXgEwn5"
      },
      "execution_count": null,
      "outputs": []
    },
    {
      "cell_type": "code",
      "source": [
        "# Convert 'Released_Year' to int\n",
        "\n",
        "\n",
        "# Convert 'Gross' to float\n",
        "\n",
        "\n",
        "# Now, you can check the data types of your DataFrame\n"
      ],
      "metadata": {
        "id": "qvnev57QFGpZ"
      },
      "execution_count": null,
      "outputs": []
    },
    {
      "cell_type": "code",
      "source": [
        "# take a look at the record for Fight Club\n"
      ],
      "metadata": {
        "id": "fvT3mXkz0Hs0"
      },
      "execution_count": null,
      "outputs": []
    },
    {
      "cell_type": "code",
      "source": [
        "# which are the movies released after the year 2000?\n"
      ],
      "metadata": {
        "id": "_8gjF5C-D4KK"
      },
      "execution_count": null,
      "outputs": []
    },
    {
      "cell_type": "code",
      "source": [
        "# which are the 2 most famouse ones? (look at the number of votes!)\n"
      ],
      "metadata": {
        "id": "HuHR_xFQ4kIx"
      },
      "execution_count": null,
      "outputs": []
    },
    {
      "cell_type": "code",
      "source": [
        "# look at the oldest movie in this dataset. How to see the latest?\n"
      ],
      "metadata": {
        "id": "-h_GRrAt0Hqv"
      },
      "execution_count": null,
      "outputs": []
    },
    {
      "cell_type": "code",
      "source": [
        "# group the movies based on the first actor and sort by the number of movies\n",
        "# they have played in\n"
      ],
      "metadata": {
        "id": "TGK3cII6ZFSY"
      },
      "execution_count": null,
      "outputs": []
    },
    {
      "cell_type": "code",
      "source": [
        "# What are the Certificate types?\n"
      ],
      "metadata": {
        "id": "dIB-SGid2hdi"
      },
      "execution_count": null,
      "outputs": []
    },
    {
      "cell_type": "code",
      "source": [
        "# Which movie descriptions have NASA in their Overview?\n"
      ],
      "metadata": {
        "id": "7k5mI8K12hbb"
      },
      "execution_count": null,
      "outputs": []
    },
    {
      "cell_type": "code",
      "source": [
        "# create a function that changes \"The Dark Knight\" movie name to \"Batman\"\n",
        "# in the Series_Title\n",
        "\n",
        "def change_spelling(name):\n",
        "    \"\"\"\n",
        "    changing name of The Dark Knight to Batman\n",
        "    \"\"\"\n",
        "\n",
        "\n",
        "\n",
        "# apply the changes on Series_Title\n"
      ],
      "metadata": {
        "id": "-B7HmzKu7s1Y"
      },
      "execution_count": null,
      "outputs": []
    },
    {
      "cell_type": "code",
      "source": [
        "# print the 'Series_Title' in df_movies to see the value has changed\n"
      ],
      "metadata": {
        "id": "B0jKz0pN9AH6"
      },
      "execution_count": null,
      "outputs": []
    },
    {
      "cell_type": "code",
      "source": [],
      "metadata": {
        "id": "2faJdtB8Zghc"
      },
      "execution_count": null,
      "outputs": []
    },
    {
      "cell_type": "code",
      "source": [],
      "metadata": {
        "id": "EvCgaSEyZFN6"
      },
      "execution_count": null,
      "outputs": []
    },
    {
      "cell_type": "code",
      "source": [],
      "metadata": {
        "id": "3kIan7RmZFLs"
      },
      "execution_count": null,
      "outputs": []
    },
    {
      "cell_type": "markdown",
      "source": [
        "### Visualization"
      ],
      "metadata": {
        "id": "j_XVdOdtITEm"
      }
    },
    {
      "cell_type": "code",
      "source": [
        "import matplotlib.pyplot as plt\n",
        "import seaborn as sns"
      ],
      "metadata": {
        "id": "9clFkwKfISR7"
      },
      "execution_count": null,
      "outputs": []
    },
    {
      "cell_type": "code",
      "source": [
        "# data manipulation\n",
        "# create a column called decade that has the decade in which the house was built\n"
      ],
      "metadata": {
        "id": "af5meQiUpSaJ"
      },
      "execution_count": null,
      "outputs": []
    },
    {
      "cell_type": "code",
      "source": [
        "# Using groupby(), plot the number of houses built each decade\n"
      ],
      "metadata": {
        "id": "tLLG_F62olzV"
      },
      "execution_count": null,
      "outputs": []
    },
    {
      "cell_type": "code",
      "source": [
        "# Using groupby(), plot the number of 2Storey houses built each decade\n",
        "\n",
        "\n"
      ],
      "metadata": {
        "id": "Z_GRiMfholwb"
      },
      "execution_count": null,
      "outputs": []
    },
    {
      "cell_type": "markdown",
      "source": [
        "### df.corr()\n",
        "\n",
        "The correlation matrix is a square matrix that displays the pairwise correlations between all numeric columns in the DataFrame. It is a valuable tool for understanding the relationships and dependencies between different variables in your dataset.\n",
        "\n",
        "The correlation coefficient, which ranges from -1 to 1, quantifies the strength and direction of the linear relationship between two variables:\n",
        "\n",
        "A value of 1 indicates a perfect positive linear correlation, meaning that as one variable increases, the other also increases proportionally.\n",
        "A value of -1 indicates a perfect negative linear correlation, meaning that as one variable increases, the other decreases proportionally.\n",
        "A value close to 0 indicates a weak or no linear correlation between the variables."
      ],
      "metadata": {
        "id": "0r3bq_M2xRrR"
      }
    },
    {
      "cell_type": "code",
      "source": [
        "# Correlation map to see how features are correlated with SalePrice\n"
      ],
      "metadata": {
        "id": "uI8te1Q5w_xW"
      },
      "execution_count": null,
      "outputs": []
    },
    {
      "cell_type": "code",
      "source": [
        "# plot GrLivArea against SalePrice\n",
        "# do you see anything out of the ordinary?\n"
      ],
      "metadata": {
        "id": "CPCXytrxb-KL"
      },
      "execution_count": null,
      "outputs": []
    },
    {
      "cell_type": "code",
      "source": [
        "# Deleting outliers\n",
        "\n",
        "\n",
        "# Plot the new values\n"
      ],
      "metadata": {
        "id": "YjH2sB4EcG0-"
      },
      "execution_count": null,
      "outputs": []
    },
    {
      "cell_type": "markdown",
      "source": [
        " ### displot (short for \"distribution plot\")\n",
        "\n",
        " This is a function used to visualize the univariate distribution of a dataset. It allows you to plot the distribution of a single continuous variable, providing insights into its underlying data distribution, including the shape, central tendency, and spread of the data.\n",
        "\n",
        " **data** is the data you want to visualize. It can be a Pandas Series, NumPy array, or a list containing your dataset.\n",
        "\n",
        "**bins** (optional) controls the number of bins or intervals into which the data is divided for the histogram. More bins provide finer granularity.\n",
        "\n",
        "**kde** (optional) stands for \"Kernel Density Estimation\" and is a way to estimate the probability density function of the data. Setting it to True adds a smoothed curve to the plot, which can provide additional insights into the data's distribution.\n"
      ],
      "metadata": {
        "id": "ndovt3_Xnjvi"
      }
    },
    {
      "cell_type": "code",
      "source": [
        "# let's make a histogram for sales\n"
      ],
      "metadata": {
        "id": "SIyrJvEQnZtE"
      },
      "execution_count": null,
      "outputs": []
    },
    {
      "cell_type": "markdown",
      "source": [
        "The catplot function is a powerful and flexible way to create categorical plots. Categorical plots are used to visualize the distribution of one variable within different categories or the relationship between two categorical variables."
      ],
      "metadata": {
        "id": "WIV5fpg6fv7L"
      }
    },
    {
      "cell_type": "code",
      "source": [
        "feature = 'OverallQual' # add the name of the column to this list - 'MoSold'\n",
        "\n"
      ],
      "metadata": {
        "id": "JLSjtjjeIU2A"
      },
      "execution_count": null,
      "outputs": []
    },
    {
      "cell_type": "markdown",
      "source": [
        "### Your Turn"
      ],
      "metadata": {
        "id": "CBkERkuR-nK6"
      }
    },
    {
      "cell_type": "code",
      "source": [
        "# create a column called decade that has the decade in which the house was built\n"
      ],
      "metadata": {
        "id": "JK06JEUx-qEW"
      },
      "execution_count": null,
      "outputs": []
    },
    {
      "cell_type": "code",
      "source": [
        "# Using groupby(), plot the number of movies\n",
        "# that have been made each decade in the history of cinema.\n"
      ],
      "metadata": {
        "id": "h3sI8LGW-p_x"
      },
      "execution_count": null,
      "outputs": []
    },
    {
      "cell_type": "code",
      "source": [
        "# build the correlation matrix and plot it with seaborn!\n",
        "#Correlation map to see how features are correlated with SalePrice\n"
      ],
      "metadata": {
        "id": "bRVBE1xUxZV3"
      },
      "execution_count": null,
      "outputs": []
    },
    {
      "cell_type": "code",
      "source": [
        "# histogram\n"
      ],
      "metadata": {
        "id": "MI3uDgvf_Frh"
      },
      "execution_count": null,
      "outputs": []
    },
    {
      "cell_type": "code",
      "source": [],
      "metadata": {
        "id": "i0a2xSgL_FoE"
      },
      "execution_count": null,
      "outputs": []
    },
    {
      "cell_type": "code",
      "source": [],
      "metadata": {
        "id": "L--_jkiz_Fmz"
      },
      "execution_count": null,
      "outputs": []
    },
    {
      "cell_type": "markdown",
      "source": [
        " ## Missing Values\n",
        " When handling these null values we have to divide them into three categories. [Reference](https://cjasn.asnjournals.org/content/9/7/1328.abstract)\n",
        "\n",
        "\n",
        "![pic](https://github.com/mitramir55/teaching_material/blob/master/missing%20values.png?raw=true)\n",
        "\n",
        "\n",
        "**Missing Completely at Random (MCAR):** This means that there is no relationship between the missing values themselves and any other feature or observation in the dataset. These are just missing randomly and without any pattern. Like when a questionnaire is lost or some parts of a survey paper are soaked and you cannot read what it's saying. Therefore we can simply ignore them.\n",
        "\n",
        "**Missing at Random (MAR):** Means there is a pattern and relationship between the missing values and the observed values, like when the survey is about mental and physical health, male participants are less likely to know their waist circumference or boob size. We can again ignore these missing values and drop the feature or examples from our dataset. In this case we say that missing values are only related to the observed features (gender).\n",
        "\n",
        "**Missing Not at Random (MNAR):** This is a missing value that cannot and should not be ignored. We have to model and see when were the values missing and what was the reason for it. For instance, men might not answer questions about depression because of their depression. In this case we say that the missing values are related to themselves (depression) as well as to the observed features (gender)."
      ],
      "metadata": {
        "id": "OZrJW9e2JpcH"
      }
    },
    {
      "cell_type": "code",
      "source": [
        "# how to see the total number of null values?\n"
      ],
      "metadata": {
        "id": "ppyIVO_J2hZX"
      },
      "execution_count": null,
      "outputs": []
    },
    {
      "cell_type": "code",
      "source": [
        "# which one has the most null values?\n"
      ],
      "metadata": {
        "id": "rVIch_Mry9NP"
      },
      "execution_count": null,
      "outputs": []
    },
    {
      "cell_type": "code",
      "source": [
        "# a function for an interpretable visualization of nulls\n",
        "def detect_nulls(df, n=30):\n",
        "    \"\"\"\n",
        "    A function for viewing the null values present in the dataset\n",
        "    input: takes in a dataframe and the n for the n most empty columns\n",
        "    output: a dataframe with the count and precentage of nulls\n",
        "    \"\"\"\n",
        "    df_nulls = df.isnull().sum()\n",
        "    df_nulls = pd.DataFrame(np.c_[df_nulls, np.round(df_nulls/len(df) *100, 2)],\n",
        "                                    columns=['count', 'percentage'], index = df_nulls.index)\n",
        "    df_nulls.sort_values(by = df_nulls.columns[0], ascending=False, inplace = True)\n",
        "\n",
        "    df_nulls = df_nulls.loc[[i for i in df_nulls.index if (df_nulls.loc[i, :] != 0).any() & (i not in ['SalePrice'])]]\n",
        "\n",
        "    print('How many features had at least one null value?', len(df_nulls))\n",
        "    print('{} most empty features of all:'.format(df_nulls.index[0]))\n",
        "    return df_nulls[:n]"
      ],
      "metadata": {
        "id": "yH8XhV4gISWr"
      },
      "execution_count": null,
      "outputs": []
    },
    {
      "cell_type": "code",
      "source": [
        "detect_nulls(df, n=40)"
      ],
      "metadata": {
        "id": "XO73UX0Rht60"
      },
      "execution_count": null,
      "outputs": []
    },
    {
      "cell_type": "code",
      "source": [
        "df"
      ],
      "metadata": {
        "id": "W5ZbC9RumagF"
      },
      "execution_count": null,
      "outputs": []
    },
    {
      "cell_type": "code",
      "source": [
        "# fill the null values in PoolQC and MiscFeature with None\n"
      ],
      "metadata": {
        "id": "KRxXscf5lukl"
      },
      "execution_count": null,
      "outputs": []
    },
    {
      "cell_type": "code",
      "source": [
        "# Write a for loop to fill the nulls values in\n",
        "# 'MiscFeature', 'Fence', 'Alley', 'FireplaceQu'\n",
        "# with None\n"
      ],
      "metadata": {
        "id": "P82Yi6yOISVA"
      },
      "execution_count": null,
      "outputs": []
    },
    {
      "cell_type": "code",
      "source": [],
      "metadata": {
        "id": "_mivtPkFqU51"
      },
      "execution_count": null,
      "outputs": []
    },
    {
      "cell_type": "markdown",
      "source": [
        "### Stripplot\n",
        "\n",
        "x='category_column' specifies the categorical variable to be plotted on the x-axis. This is typically a column containing category labels.\n",
        "y='numeric_column' specifies the numeric variable to be plotted on the y-axis. This is the data you want to visualize within each category.\n",
        "data=data specifies the DataFrame containing your data.\n",
        "\n",
        "### features to inspect -> 'PoolQC', 'MiscFeature', 'Alley'\n"
      ],
      "metadata": {
        "id": "6DAE9GEBm6y0"
      }
    },
    {
      "cell_type": "code",
      "source": [
        "# create a seaborn plot for the number of nulls\n"
      ],
      "metadata": {
        "id": "f2mfLi5clflv"
      },
      "execution_count": null,
      "outputs": []
    },
    {
      "cell_type": "code",
      "source": [
        "# create a seaborn plot for the number of nulls\n"
      ],
      "metadata": {
        "id": "LUafJbKCISTO"
      },
      "execution_count": null,
      "outputs": []
    },
    {
      "cell_type": "code",
      "source": [
        "# Write a for loop to fill the nulls values in\n",
        "# 'GarageType', 'GarageFinish', 'GarageQual', 'GarageCond'\n",
        "# with None\n"
      ],
      "metadata": {
        "id": "Gk36PfZgm5mQ"
      },
      "execution_count": null,
      "outputs": []
    },
    {
      "cell_type": "code",
      "source": [
        "# some have to be filled with zero\n",
        "# 'BsmtFinSF1', 'BsmtFinSF2', 'BsmtUnfSF','TotalBsmtSF', 'BsmtFullBath', 'BsmtHalfBath'\n"
      ],
      "metadata": {
        "id": "gAn-1YAClzm8"
      },
      "execution_count": null,
      "outputs": []
    },
    {
      "cell_type": "code",
      "source": [
        "# what should be done for MSZoning (The general zoning classification)?\n"
      ],
      "metadata": {
        "id": "R4I0gNpZmUgc"
      },
      "execution_count": null,
      "outputs": []
    },
    {
      "cell_type": "code",
      "source": [
        "# let's plot the distribution\n",
        "\n",
        "# Create a count plot\n",
        "\n",
        "# Optional: Customize the plot\n",
        "\n",
        "\n",
        "# Show the plot\n"
      ],
      "metadata": {
        "id": "ls-tniPqnfXE"
      },
      "execution_count": null,
      "outputs": []
    },
    {
      "cell_type": "code",
      "source": [
        "# take a look at the most frequent value\n"
      ],
      "metadata": {
        "id": "IjeMuZBKn3ms"
      },
      "execution_count": null,
      "outputs": []
    },
    {
      "cell_type": "code",
      "source": [
        "# fill the MSZoning column with mode\n"
      ],
      "metadata": {
        "id": "VzvXDJnJpx8l"
      },
      "execution_count": null,
      "outputs": []
    },
    {
      "cell_type": "code",
      "source": [],
      "metadata": {
        "id": "XzCNDCUqpsRC"
      },
      "execution_count": null,
      "outputs": []
    },
    {
      "cell_type": "code",
      "source": [
        "# so how to drop a column?\n"
      ],
      "metadata": {
        "id": "i3z9-toAlL-A"
      },
      "execution_count": null,
      "outputs": []
    },
    {
      "cell_type": "code",
      "source": [
        "# look at the Electrical column and see what can be done\n"
      ],
      "metadata": {
        "id": "FP3xFVfplL7J"
      },
      "execution_count": null,
      "outputs": []
    },
    {
      "cell_type": "code",
      "source": [
        "# see the values in this column\n"
      ],
      "metadata": {
        "id": "K4JSHB4cfUJA"
      },
      "execution_count": null,
      "outputs": []
    },
    {
      "cell_type": "code",
      "source": [
        "# drop the record with null in it\n"
      ],
      "metadata": {
        "id": "_57Kc9ShfzM-"
      },
      "execution_count": null,
      "outputs": []
    },
    {
      "cell_type": "code",
      "source": [
        "# check and see if we have dropped it correctly\n"
      ],
      "metadata": {
        "id": "yBdc8WxZDEYN"
      },
      "execution_count": null,
      "outputs": []
    },
    {
      "cell_type": "markdown",
      "source": [
        "### Your Turn"
      ],
      "metadata": {
        "id": "vwQdd_HNBIWI"
      }
    },
    {
      "cell_type": "code",
      "source": [
        "# see which columns have null?\n"
      ],
      "metadata": {
        "id": "6oB_jrVgfzKQ"
      },
      "execution_count": null,
      "outputs": []
    },
    {
      "cell_type": "code",
      "source": [
        "# drop the record that doesn't have Released_Year\n"
      ],
      "metadata": {
        "id": "iJidzOEkfzHX"
      },
      "execution_count": null,
      "outputs": []
    },
    {
      "cell_type": "code",
      "source": [
        "# inspect Meta_score\n"
      ],
      "metadata": {
        "id": "t7h7zXnFfzF2"
      },
      "execution_count": null,
      "outputs": []
    },
    {
      "cell_type": "code",
      "source": [
        "# fill it with the mean value\n"
      ],
      "metadata": {
        "id": "D8Lw7NR_fzDQ"
      },
      "execution_count": null,
      "outputs": []
    },
    {
      "cell_type": "code",
      "source": [
        "# see if we have any null values\n"
      ],
      "metadata": {
        "id": "O-TkPbjbfzBk"
      },
      "execution_count": null,
      "outputs": []
    },
    {
      "cell_type": "markdown",
      "source": [
        "### Reference\n",
        "\n",
        "* Brandon Rhodes - Pandas From The Ground Up - PyCon 2015: [link](https://www.youtube.com/watch?v=5JnMutdy6Fw&list=PL2vN4d3B5vi5gCdw4I-RAJonYAhH7k8bp&ab_channel=PyCon2015)\n",
        "* Missing values – Mitra’s Kaggle Tutorial: [link](https://www.kaggle.com/code/mitramir5/missing-values-ordinal-data-and-stories)\n",
        "* Crash Course Statistics: [link](https://www.youtube.com/watch?v=zouPoc49xbk&list=PL8dPuuaLjXtNM_Y-bUAhblSAdWRnmBUcr&ab_channel=CrashCourse)\n"
      ],
      "metadata": {
        "id": "bGuXyafOELsx"
      }
    },
    {
      "cell_type": "code",
      "source": [],
      "metadata": {
        "id": "FfqH5WaaD-mU"
      },
      "execution_count": null,
      "outputs": []
    }
  ]
}